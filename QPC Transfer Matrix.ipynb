{
 "metadata": {
  "name": "",
  "signature": "sha256:b081ad49454f8b225a3f74af8c438239407c0859f1cb6b8da031f02b19a698d6"
 },
 "nbformat": 3,
 "nbformat_minor": 0,
 "worksheets": [
  {
   "cells": [
    {
     "cell_type": "code",
     "collapsed": false,
     "input": [
      "import numpy as np\n",
      "import matplotlib.pyplot as plt\n",
      "from mpl_toolkits.mplot3d.axes3d import Axes3D\n",
      "%matplotlib \n",
      "#inline"
     ],
     "language": "python",
     "metadata": {},
     "outputs": [
      {
       "output_type": "stream",
       "stream": "stdout",
       "text": [
        "Using matplotlib backend: Qt4Agg\n"
       ]
      }
     ],
     "prompt_number": 2
    },
    {
     "cell_type": "heading",
     "level": 2,
     "metadata": {},
     "source": [
      "Where the magic happens"
     ]
    },
    {
     "cell_type": "heading",
     "level": 5,
     "metadata": {},
     "source": [
      "Calculate the T_tot matrix, the outcomming waves and find the coefficients"
     ]
    },
    {
     "cell_type": "markdown",
     "metadata": {},
     "source": [
      "The waves are normalized by the current $<I>=2\\operatorname{Im}(\\psi_n^*\\psi_{n+1})$"
     ]
    },
    {
     "cell_type": "code",
     "collapsed": false,
     "input": [
      "N = 30    # number of transverse lattice points\n",
      "L = 10\n",
      "t = 1    # coupling constant\n",
      "mu = 0.2 # chemical potential of the leads\n",
      "\n",
      "\n",
      "def T(mu, N):\n",
      "    \"\"\" This function generates a transfer matrix for a potential V. \"\"\"\n",
      "    T12 = np.zeros((N,N))\n",
      "    T21 = np.zeros((N,N))\n",
      "    T22 = np.zeros((N,N))\n",
      "    np.fill_diagonal(T12, -1)\n",
      "    np.fill_diagonal(T21, t)\n",
      "    v = np.ones(N-1)\n",
      "    H = np.diag(-t*v,-1) + np.diag( (4*t)*np.ones(N)-mu,0) + np.diag(-t*v,1)\n",
      "    T11 = H/t\n",
      "    return np.array(np.bmat([[T11, T12], [T21, T22]]))\n",
      "\n",
      "\n",
      "def solve(mu, L, N):\n",
      "    # find the eigenvalues and vectors\n",
      "    eig_val, eig_vec = np.linalg.eig(T(mu, N))\n",
      "\n",
      "    # get indices of the forward and backward propagating waves and the evanescent growing and decaying waves\n",
      "    idx_R = np.where(eig_val.imag > 0.)[0] # waves that propagate right\n",
      "    idx_L = np.where(eig_val.imag < 0.)[0] # waves that propagate left\n",
      "    idx_evan = np.where(eig_val.imag == 0)[0] # evanescent waves\n",
      "    idx_grow = np.where(np.abs(eig_val[idx_evan]) > 1)[0] # evanescent growing waves\n",
      "    idx_dec = np.where(np.abs(eig_val[idx_evan]) < 1)[0] # evanescent decaying waves\n",
      "\n",
      "    #T_tot = T(np.random.rand(N)) # overwrite the transfer matrix\n",
      "    T_tot = np.eye(2*N)\n",
      "    for j in range(L):\n",
      "        T_tot = np.dot(T(mu, N), T_tot)\n",
      "    \"\"\"\n",
      "    T_tot = np.eye(2*N)\n",
      "    for j in range(L):\n",
      "        T_tot = np.dot(T(pot[:,j]), T_tot)\n",
      "    \"\"\"\n",
      "\n",
      "    psi_R = eig_vec[:,idx_R]\n",
      "    psi_L = eig_vec[:,idx_L]\n",
      "    ev_dec = eig_vec[:,idx_evan][:,idx_dec]\n",
      "    ev_grow = eig_vec[:,idx_evan][:,idx_grow]\n",
      "\n",
      "    psi_R_norm = 2 * np.sum(np.multiply(np.conjugate(psi_R[N:2*N]) , psi_R[:N]), axis=0).imag \n",
      "    psi_R /= np.sqrt(psi_R_norm)\n",
      "    psi_L_norm = -2 * np.sum(np.multiply(np.conjugate(psi_L[N:2*N]) , psi_L[:N]), axis=0).imag\n",
      "    psi_L /= np.sqrt(psi_L_norm)\n",
      "\n",
      "    U_L = np.hstack((psi_R, ev_dec, np.dot(-T_tot,psi_L), np.dot(-T_tot,ev_grow) ))\n",
      "    U_R = np.dot(T_tot, psi_R)\n",
      "\n",
      "    coeff = np.dot(np.linalg.inv(U_L), U_R)\n",
      "\n",
      "    N_in = psi_L.shape[1]  # number of incomming waves\n",
      "    N_ev = ev_dec.shape[1] # number of evanescent waves\n",
      "\n",
      "    t_matrix = coeff[:N_in,:]\n",
      "    alpha = coeff[N_in:N_in+N_ev,:]\n",
      "    r = coeff[N_in+N_ev:2*N_in+N_ev,:]\n",
      "    beta = coeff[2*N_in+N_ev:2*N_in+2*N_ev,:]\n",
      "    \n",
      "    test = np.sum(abs(t_matrix)**2+abs(r)**2, axis=0)\n",
      "    test2 = np.sum(test)/len(test)\n",
      "    \n",
      "    return test2\n",
      "    \"\"\"print 'is this 1?', np.sum(abs(t_matrix)**2+abs(r)**2, axis=0)\n",
      "    print 't_matrix'\n",
      "    print np.round(abs(t_matrix), 2)\"\"\""
     ],
     "language": "python",
     "metadata": {},
     "outputs": [],
     "prompt_number": 3
    },
    {
     "cell_type": "code",
     "collapsed": false,
     "input": [
      "L_max = 100\n",
      "lengths = np.arange(0,L_max,1)\n",
      "error = np.zeros(L_max)\n",
      "for L in lengths:\n",
      "    error[L] = solve(mu=0.2, L=L, N=100)"
     ],
     "language": "python",
     "metadata": {},
     "outputs": [],
     "prompt_number": 11
    },
    {
     "cell_type": "code",
     "collapsed": false,
     "input": [
      "fig = plt.figure()\n",
      "ax = plt.gca()\n",
      "ax.set_yscale('log')\n",
      "plt.plot(lengths, error)\n",
      "plt.title('Transfer Matrix method error as a function of length')\n",
      "plt.xlabel('Length')\n",
      "plt.ylabel('error')"
     ],
     "language": "python",
     "metadata": {},
     "outputs": [
      {
       "metadata": {},
       "output_type": "pyout",
       "prompt_number": 13,
       "text": [
        "<matplotlib.text.Text at 0xa9959a4c>"
       ]
      }
     ],
     "prompt_number": 13
    },
    {
     "cell_type": "code",
     "collapsed": false,
     "input": [],
     "language": "python",
     "metadata": {},
     "outputs": [
      {
       "metadata": {},
       "output_type": "pyout",
       "prompt_number": 10,
       "text": [
        "array([  1.00000000e+00,   1.00000000e+00,   1.00000000e+00,\n",
        "         1.00000000e+00,   1.00000000e+00,   1.00000000e+00,\n",
        "         1.00000000e+00,   1.00000000e+00,   1.00000000e+00,\n",
        "         1.00000000e+00,   1.00000000e+00,   1.00000000e+00,\n",
        "         9.99999985e-01,   9.99999898e-01,   1.00000003e+00,\n",
        "         1.00000285e+00,   1.00000602e+00,   1.00000684e+00,\n",
        "         9.99768978e-01,   9.99962029e-01,   1.02256791e+00,\n",
        "         1.08273325e+00,   4.00775827e+00,   1.05356741e+01,\n",
        "         2.75291824e+00,   4.74822562e+00,   4.50024188e+02,\n",
        "         9.75516317e+03,   3.59998181e+06,   1.19445001e+07])"
       ]
      }
     ],
     "prompt_number": 10
    },
    {
     "cell_type": "heading",
     "level": 2,
     "metadata": {},
     "source": [
      "Generate a smooth potential"
     ]
    },
    {
     "cell_type": "code",
     "collapsed": false,
     "input": [
      "# generate potential\n",
      "x = np.linspace(-3,3,L)\n",
      "y = np.linspace(-4,4,N)\n",
      "X, Y = np.meshgrid(x,y)\n",
      "pot = np.tanh(Y**2-X**2)+1+mu\n",
      "\n",
      "# plot the potential\n",
      "fig = plt.figure()\n",
      "ax = fig.add_subplot(1, 1, 1, projection='3d')\n",
      "plt.xlabel('x')\n",
      "plt.ylabel('y')\n",
      "p = ax.plot_surface(X, Y, pot)\n",
      "plt.show()"
     ],
     "language": "python",
     "metadata": {},
     "outputs": [
      {
       "metadata": {},
       "output_type": "display_data",
       "png": "[encoded data removed]",
       "text": [
        "<matplotlib.figure.Figure at 0xafba49ec>"
       ]
      }
     ],
     "prompt_number": 64
    },
    {
     "cell_type": "code",
     "collapsed": false,
     "input": [
      "fig, ax = plt.subplots()\n",
      "plot = ax.matshow(pot)\n",
      "title = ax.set_title(\"Crank-Nicholson method\")\n",
      "ax.set_xlabel(r'$x$')\n",
      "ax.set_ylabel(r'$y$')\n",
      "plt.show()"
     ],
     "language": "python",
     "metadata": {},
     "outputs": [
      {
       "metadata": {},
       "output_type": "display_data",
       "png": "[encoded data removed]",
       "text": [
        "<matplotlib.figure.Figure at 0xafaa2e4c>"
       ]
      }
     ],
     "prompt_number": 65
    }
   ],
   "metadata": {}
  }
 ]
}